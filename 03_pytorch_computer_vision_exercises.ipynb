{
  "nbformat": 4,
  "nbformat_minor": 0,
  "metadata": {
    "colab": {
      "provenance": [],
      "gpuType": "T4"
    },
    "kernelspec": {
      "name": "python3",
      "display_name": "Python 3"
    },
    "language_info": {
      "name": "python"
    },
    "accelerator": "GPU"
  },
  "cells": [
    {
      "cell_type": "markdown",
      "metadata": {
        "id": "view-in-github"
      },
      "source": [
        "<a href=\"https://colab.research.google.com/github/mrdbourke/pytorch-deep-learning/blob/main/extras/exercises/03_pytorch_computer_vision_exercises.ipynb\" target=\"_parent\"><img src=\"https://colab.research.google.com/assets/colab-badge.svg\" alt=\"Open In Colab\"/></a>"
      ]
    },
    {
      "cell_type": "markdown",
      "source": [
        "# 03. PyTorch Computer Vision Exercises\n",
        "\n",
        "The following is a collection of exercises based on computer vision fundamentals in PyTorch.\n",
        "\n",
        "They're a bunch of fun.\n",
        "\n",
        "You're going to get to write plenty of code!\n",
        "\n",
        "## Resources\n",
        "\n",
        "1. These exercises are based on [notebook 03 of the Learn PyTorch for Deep Learning course](https://www.learnpytorch.io/03_pytorch_computer_vision/).\n",
        "2. See a live [walkthrough of the solutions (errors and all) on YouTube](https://youtu.be/_PibmqpEyhA).\n",
        "  * **Note:** Going through these exercises took me just over 3 hours of solid coding, so you should expect around the same.\n",
        "3. See [other solutions on the course GitHub](https://github.com/mrdbourke/pytorch-deep-learning/tree/main/extras/solutions)."
      ],
      "metadata": {
        "id": "Vex99np2wFVt"
      }
    },
    {
      "cell_type": "code",
      "source": [
        "# Check for GPU\n",
        "!nvidia-smi"
      ],
      "metadata": {
        "colab": {
          "base_uri": "https://localhost:8080/"
        },
        "id": "GaeYzOTLwWh2",
        "outputId": "e53cf842-bc54-4849-cb01-5bf966235d05"
      },
      "execution_count": 1,
      "outputs": [
        {
          "output_type": "stream",
          "name": "stdout",
          "text": [
            "Sat May 11 20:46:32 2024       \n",
            "+---------------------------------------------------------------------------------------+\n",
            "| NVIDIA-SMI 535.104.05             Driver Version: 535.104.05   CUDA Version: 12.2     |\n",
            "|-----------------------------------------+----------------------+----------------------+\n",
            "| GPU  Name                 Persistence-M | Bus-Id        Disp.A | Volatile Uncorr. ECC |\n",
            "| Fan  Temp   Perf          Pwr:Usage/Cap |         Memory-Usage | GPU-Util  Compute M. |\n",
            "|                                         |                      |               MIG M. |\n",
            "|=========================================+======================+======================|\n",
            "|   0  Tesla T4                       Off | 00000000:00:04.0 Off |                    0 |\n",
            "| N/A   34C    P8               9W /  70W |      0MiB / 15360MiB |      0%      Default |\n",
            "|                                         |                      |                  N/A |\n",
            "+-----------------------------------------+----------------------+----------------------+\n",
            "                                                                                         \n",
            "+---------------------------------------------------------------------------------------+\n",
            "| Processes:                                                                            |\n",
            "|  GPU   GI   CI        PID   Type   Process name                            GPU Memory |\n",
            "|        ID   ID                                                             Usage      |\n",
            "|=======================================================================================|\n",
            "|  No running processes found                                                           |\n",
            "+---------------------------------------------------------------------------------------+\n"
          ]
        }
      ]
    },
    {
      "cell_type": "code",
      "source": [
        "# Import torch\n",
        "import torch\n",
        "\n",
        "# Exercises require PyTorch > 1.10.0\n",
        "print(torch.__version__)\n",
        "\n",
        "device = \"cuda\" if torch.cuda.is_available() else \"cpu\"\n",
        "print(device)"
      ],
      "metadata": {
        "colab": {
          "base_uri": "https://localhost:8080/"
        },
        "id": "DNwZLMbCzJLk",
        "outputId": "b55cf626-fd08-4751-d3b5-0e909d26aa7d"
      },
      "execution_count": 2,
      "outputs": [
        {
          "output_type": "stream",
          "name": "stdout",
          "text": [
            "2.2.1+cu121\n",
            "cuda\n"
          ]
        }
      ]
    },
    {
      "cell_type": "markdown",
      "source": [
        "## 1. What are 3 areas in industry where computer vision is currently being used?"
      ],
      "metadata": {
        "id": "FSFX7tc1w-en"
      }
    },
    {
      "cell_type": "markdown",
      "source": [
        "1. Medicine: for analyzing medical images. Computer vision can help detect diseases at an early stage by analyzing medical images such as X-rays, MRIs and CT scans.\n",
        "\n",
        "2. Self-driving cars and similar devices.\n",
        "\n",
        "3. “Smart city” concept: for automated payment systems, inventory management and customer behavior analysis; traffic surveillance cameras, etc.\n",
        "_____\n",
        "  </br>\n",
        "\n",
        "1. Медицина: для анализа медицинских изображений. Компьютерное зрение может помочь обнаруживать заболевания на ранней стадии при анализе медицинских изображений: рентгеновских снимков, МРТ и КТ.\n",
        "\n",
        "2. Беспилотные автомобили и подобные устройства.\n",
        "\n",
        "3. Концепция \"умный город\": для автоматизированных систем оплаты, управления запасами и анализа поведения покупателей; камеры наблюдения пдд и т.п."
      ],
      "metadata": {
        "id": "GWa3VtK5ujcW"
      }
    },
    {
      "cell_type": "markdown",
      "source": [
        "## 2. Search \"what is overfitting in machine learning\" and write down a sentence about what you find."
      ],
      "metadata": {
        "id": "oBK-WI6YxDYa"
      }
    },
    {
      "cell_type": "markdown",
      "source": [
        "In machine learning, overfitting occurs when an algorithm \"learns\" its training data too closely, or one might say, completely, resulting in the model being unable to make accurate predictions or inferences from any data other than the training data.\n",
        "___\n",
        "</br>\n",
        "\n",
        "В машинном обучении переобучение происходит, когда алгоритм слишком точно или, можно сказать, полностью \"выучивает\" свои тренировочные данные, в результате чего модель не может делать точные прогнозы или выводы из любых данных, отличных от тренировочных."
      ],
      "metadata": {
        "id": "biP6WwPmv7AU"
      }
    },
    {
      "cell_type": "markdown",
      "source": [
        "## 3. Search \"ways to prevent overfitting in machine learning\", write down 3 of the things you find and a sentence about each.\n",
        "> **Note:** there are lots of these, so don't worry too much about all of them, just pick 3 and start with those."
      ],
      "metadata": {
        "id": "XeYFEqw8xK26"
      }
    },
    {
      "cell_type": "markdown",
      "source": [
        "  - **Cross-validation**:  \n",
        "  We can divide our data set into k groups (k-fold cross-validation). We let one of the groups be the test set and the rest be the training set, and repeat this process until every single group has been used as the test set.\n",
        "     \n",
        "  - **Data augmentation**:\n",
        "  A larger data set reduces overfitting. If we are unable to collect more data and are limited by the data we have in our current dataset, we can apply data augmentation to artificially increase the size of our dataset.\n",
        "   \n",
        "  - **L1 / L2 regularization**:\n",
        "  Regularization is a method of adding some additional restrictions to a condition in order to solve an incorrectly posed problem or prevent overfitting. In $L1$ or $L2$ regularization, we can add a penalty term to the loss function. $L1$ regularization, also known as _Lasso_, adds a penalty equal to the absolute value of the magnitude of the coefficients. $L2$ regularization, also known as _Ridge_, adds a penalty equal to the square of the magnitude of the coefficients.\n",
        "\n",
        "  ___\n",
        "</br>\n",
        "   \n",
        "   - **Кросс-валидация (Cross-validation)**:  \n",
        "   Мы можем разделить наш набор данных на k групп (k-fold cross-validation). Мы позволяем одной из групп быть тестовым набором, а остальным - тренировочным набором, и повторяем этот процесс до тех пор, пока каждая отдельная группа не будет использована в качестве тестового набора.\n",
        "   \n",
        "   - **Аугментация данных (Data augmentation)**:  \n",
        "   Больший набор данных снижает переобучение. Если мы не можем собрать больше данных и ограничены данными, которые у нас есть в нашем текущем наборе данных, мы можем применить аугментацию данных для искусственного увеличения размера нашего набора данных.\n",
        "   \n",
        "   - **Регуляризация L1 / L2 (L1 / L2 regularization)**:  \n",
        "   Регуляризация - метод добавления некоторых дополнительных ограничений к условию с целью решить некорректно поставленную задачу или предотвратить переобучение. В регуляризации $L1$ или $L2$ мы можем добавить штрафной член к функции потерь. Регуляризация $L1$, также известная как _Lasso_, добавляет штраф, равный абсолютному значению величины коэффициентов. Регуляризация $L2$, также известная как _Ridge_, добавляет штраф, равный квадрату величины коэффициентов."
      ],
      "metadata": {
        "id": "HObY0NjCwp9j"
      }
    },
    {
      "cell_type": "markdown",
      "source": [
        "## 4. Spend 20-minutes reading and clicking through the [CNN Explainer website](https://poloclub.github.io/cnn-explainer/).\n",
        "\n",
        "* Upload your own example image using the \"upload\" button on the website and see what happens in each layer of a CNN as your image passes through it. - ✅"
      ],
      "metadata": {
        "id": "DKdEEFEqxM-8"
      }
    },
    {
      "cell_type": "markdown",
      "source": [
        "## 5. Load the [`torchvision.datasets.MNIST()`](https://pytorch.org/vision/stable/generated/torchvision.datasets.MNIST.html#torchvision.datasets.MNIST) train and test datasets."
      ],
      "metadata": {
        "id": "lvf-3pODxXYI"
      }
    },
    {
      "cell_type": "code",
      "source": [
        "import matplotlib.pyplot as plt\n",
        "import torch\n",
        "\n",
        "from torchvision import datasets, transforms"
      ],
      "metadata": {
        "id": "SHjeuN81bHza"
      },
      "execution_count": 3,
      "outputs": []
    },
    {
      "cell_type": "code",
      "source": [
        "train_data = datasets.MNIST(root=\"data\", train=True, download=True, transform=transforms.ToTensor())\n",
        "test_data = datasets.MNIST(root=\"data\", train=False, download=True, transform=transforms.ToTensor())\n",
        "\n",
        "train_data, test_data"
      ],
      "metadata": {
        "id": "QVFsYi1PbItE",
        "colab": {
          "base_uri": "https://localhost:8080/"
        },
        "outputId": "58af908e-b2d9-4d52-ffa9-412199198e8c"
      },
      "execution_count": 4,
      "outputs": [
        {
          "output_type": "stream",
          "name": "stdout",
          "text": [
            "Downloading http://yann.lecun.com/exdb/mnist/train-images-idx3-ubyte.gz\n",
            "Failed to download (trying next):\n",
            "HTTP Error 403: Forbidden\n",
            "\n",
            "Downloading https://ossci-datasets.s3.amazonaws.com/mnist/train-images-idx3-ubyte.gz\n",
            "Downloading https://ossci-datasets.s3.amazonaws.com/mnist/train-images-idx3-ubyte.gz to data/MNIST/raw/train-images-idx3-ubyte.gz\n"
          ]
        },
        {
          "output_type": "stream",
          "name": "stderr",
          "text": [
            "100%|██████████| 9912422/9912422 [00:00<00:00, 11664474.91it/s]\n"
          ]
        },
        {
          "output_type": "stream",
          "name": "stdout",
          "text": [
            "Extracting data/MNIST/raw/train-images-idx3-ubyte.gz to data/MNIST/raw\n",
            "\n",
            "Downloading http://yann.lecun.com/exdb/mnist/train-labels-idx1-ubyte.gz\n",
            "Failed to download (trying next):\n",
            "HTTP Error 403: Forbidden\n",
            "\n",
            "Downloading https://ossci-datasets.s3.amazonaws.com/mnist/train-labels-idx1-ubyte.gz\n",
            "Downloading https://ossci-datasets.s3.amazonaws.com/mnist/train-labels-idx1-ubyte.gz to data/MNIST/raw/train-labels-idx1-ubyte.gz\n"
          ]
        },
        {
          "output_type": "stream",
          "name": "stderr",
          "text": [
            "100%|██████████| 28881/28881 [00:00<00:00, 350400.90it/s]\n"
          ]
        },
        {
          "output_type": "stream",
          "name": "stdout",
          "text": [
            "Extracting data/MNIST/raw/train-labels-idx1-ubyte.gz to data/MNIST/raw\n",
            "\n",
            "Downloading http://yann.lecun.com/exdb/mnist/t10k-images-idx3-ubyte.gz\n",
            "Failed to download (trying next):\n",
            "HTTP Error 403: Forbidden\n",
            "\n",
            "Downloading https://ossci-datasets.s3.amazonaws.com/mnist/t10k-images-idx3-ubyte.gz\n",
            "Downloading https://ossci-datasets.s3.amazonaws.com/mnist/t10k-images-idx3-ubyte.gz to data/MNIST/raw/t10k-images-idx3-ubyte.gz\n"
          ]
        },
        {
          "output_type": "stream",
          "name": "stderr",
          "text": [
            "100%|██████████| 1648877/1648877 [00:00<00:00, 3253904.72it/s]\n"
          ]
        },
        {
          "output_type": "stream",
          "name": "stdout",
          "text": [
            "Extracting data/MNIST/raw/t10k-images-idx3-ubyte.gz to data/MNIST/raw\n",
            "\n",
            "Downloading http://yann.lecun.com/exdb/mnist/t10k-labels-idx1-ubyte.gz\n",
            "Failed to download (trying next):\n",
            "HTTP Error 403: Forbidden\n",
            "\n",
            "Downloading https://ossci-datasets.s3.amazonaws.com/mnist/t10k-labels-idx1-ubyte.gz\n",
            "Downloading https://ossci-datasets.s3.amazonaws.com/mnist/t10k-labels-idx1-ubyte.gz to data/MNIST/raw/t10k-labels-idx1-ubyte.gz\n"
          ]
        },
        {
          "output_type": "stream",
          "name": "stderr",
          "text": [
            "100%|██████████| 4542/4542 [00:00<00:00, 10986464.11it/s]\n"
          ]
        },
        {
          "output_type": "stream",
          "name": "stdout",
          "text": [
            "Extracting data/MNIST/raw/t10k-labels-idx1-ubyte.gz to data/MNIST/raw\n",
            "\n"
          ]
        },
        {
          "output_type": "execute_result",
          "data": {
            "text/plain": [
              "(Dataset MNIST\n",
              "     Number of datapoints: 60000\n",
              "     Root location: data\n",
              "     Split: Train\n",
              "     StandardTransform\n",
              " Transform: ToTensor(),\n",
              " Dataset MNIST\n",
              "     Number of datapoints: 10000\n",
              "     Root location: data\n",
              "     Split: Test\n",
              "     StandardTransform\n",
              " Transform: ToTensor())"
            ]
          },
          "metadata": {},
          "execution_count": 4
        }
      ]
    },
    {
      "cell_type": "code",
      "source": [
        "len(train_data), len(test_data)"
      ],
      "metadata": {
        "colab": {
          "base_uri": "https://localhost:8080/"
        },
        "id": "kJTs-8D12TfM",
        "outputId": "50ae5dcf-9da8-4a72-ff98-9bc5c77446d6"
      },
      "execution_count": 5,
      "outputs": [
        {
          "output_type": "execute_result",
          "data": {
            "text/plain": [
              "(60000, 10000)"
            ]
          },
          "metadata": {},
          "execution_count": 5
        }
      ]
    },
    {
      "cell_type": "code",
      "source": [
        "print(train_data[0][0].shape)\n",
        "print(train_data[0][0].squeeze().shape)"
      ],
      "metadata": {
        "colab": {
          "base_uri": "https://localhost:8080/"
        },
        "id": "ouckzRrA3Rys",
        "outputId": "9a66e98c-44b9-4861-8f51-1c934c42bb50"
      },
      "execution_count": 6,
      "outputs": [
        {
          "output_type": "stream",
          "name": "stdout",
          "text": [
            "torch.Size([1, 28, 28])\n",
            "torch.Size([28, 28])\n"
          ]
        }
      ]
    },
    {
      "cell_type": "markdown",
      "source": [
        "- tensor form `(1, 28, 28)` means:\n",
        "\n",
        "   **1**: number of channels in the image. For a b&w image = 1. For RGB the number of channels is 3.\n",
        "\n",
        "   **28**: Image width in pixels.\n",
        "\n",
        "   **28**: Image height in pixels.\n",
        "\n",
        "\n",
        "- `squeeze()` is used to remove dimensions of a tensor with length 1.\n",
        "___\n",
        "</br>  \n",
        "- форма тензора `(1, 28, 28)` означает:\n",
        "\n",
        "  **1**: количество каналов в изображении. Для ч-б изображения = 1. Для RGB количество каналов равняется 3.\n",
        "\n",
        "  **28**: ширина изображения в пикселях.\n",
        "\n",
        "  **28**: высота изображения в пикселях.\n",
        "\n",
        "\n",
        "- `squeeze()` используется для удаления размерностей тензора с длиной 1."
      ],
      "metadata": {
        "id": "DG9E-Y-A36dW"
      }
    },
    {
      "cell_type": "code",
      "source": [
        "# Get the class names from the dataset\n",
        "class_names = train_data.classes\n",
        "class_names"
      ],
      "metadata": {
        "colab": {
          "base_uri": "https://localhost:8080/"
        },
        "id": "6gY7iATsXDO-",
        "outputId": "e2a81e5f-607e-4422-d119-18cb0cb29703"
      },
      "execution_count": 7,
      "outputs": [
        {
          "output_type": "execute_result",
          "data": {
            "text/plain": [
              "['0 - zero',\n",
              " '1 - one',\n",
              " '2 - two',\n",
              " '3 - three',\n",
              " '4 - four',\n",
              " '5 - five',\n",
              " '6 - six',\n",
              " '7 - seven',\n",
              " '8 - eight',\n",
              " '9 - nine']"
            ]
          },
          "metadata": {},
          "execution_count": 7
        }
      ]
    },
    {
      "cell_type": "markdown",
      "source": [
        "## 6. Visualize at least 5 different samples of the MNIST training dataset."
      ],
      "metadata": {
        "id": "qxZW-uAbxe_F"
      }
    },
    {
      "cell_type": "code",
      "source": [
        "fig, axes = plt.subplots(1, 5, figsize=(10, 2))\n",
        "for i in range(5):\n",
        "    axes[i].imshow(train_data[i][0].reshape(28, 28), cmap=\"gray\")\n",
        "    axes[i].set_title(f\"Sample #{i}\\nLabel: {train_data[i][1]}\")\n",
        "    axes[i].axis(\"off\")\n",
        "plt.show()"
      ],
      "metadata": {
        "colab": {
          "base_uri": "https://localhost:8080/",
          "height": 213
        },
        "id": "n7PyntFN2l8t",
        "outputId": "ab55379c-d044-4460-de61-aa6976fe1371"
      },
      "execution_count": 8,
      "outputs": [
        {
          "output_type": "display_data",
          "data": {
            "text/plain": [
              "<Figure size 1000x200 with 5 Axes>"
            ],
            "image/png": "[encoded data removed]"
          },
          "metadata": {}
        }
      ]
    },
    {
      "cell_type": "markdown",
      "source": [
        "## 7. Turn the MNIST train and test datasets into dataloaders using `torch.utils.data.DataLoader`, set the `batch_size=32`."
      ],
      "metadata": {
        "id": "JAPDzW0wxhi3"
      }
    },
    {
      "cell_type": "code",
      "source": [
        "# Create train dataloader\n",
        "train_loader = torch.utils.data.DataLoader(train_data, batch_size=32, shuffle=True)\n",
        "test_loader = torch.utils.data.DataLoader(test_data, batch_size=32, shuffle=True)"
      ],
      "metadata": {
        "id": "ALA6MPcFbJXQ"
      },
      "execution_count": 9,
      "outputs": []
    },
    {
      "cell_type": "code",
      "source": [
        "train_loader, test_loader"
      ],
      "metadata": {
        "colab": {
          "base_uri": "https://localhost:8080/"
        },
        "id": "mzCUQfxM4xQF",
        "outputId": "bae83293-2b19-4752-d9d5-0fdfe4eae28d"
      },
      "execution_count": 10,
      "outputs": [
        {
          "output_type": "execute_result",
          "data": {
            "text/plain": [
              "(<torch.utils.data.dataloader.DataLoader at 0x79734ba73760>,\n",
              " <torch.utils.data.dataloader.DataLoader at 0x79734ba72560>)"
            ]
          },
          "metadata": {},
          "execution_count": 10
        }
      ]
    },
    {
      "cell_type": "code",
      "source": [
        "for sample in next(iter(train_loader)):\n",
        "    print(sample.shape)"
      ],
      "metadata": {
        "colab": {
          "base_uri": "https://localhost:8080/"
        },
        "id": "63Y1EVfT43yz",
        "outputId": "89e647e0-1a4a-4aff-b12c-fb472c7b3d55"
      },
      "execution_count": 11,
      "outputs": [
        {
          "output_type": "stream",
          "name": "stdout",
          "text": [
            "torch.Size([32, 1, 28, 28])\n",
            "torch.Size([32])\n"
          ]
        }
      ]
    },
    {
      "cell_type": "markdown",
      "source": [
        "- `torch.Size([32, 1, 28, 28])`: This is the size of the image tensor in the batch. Here **32** is the batch size (the number of images in the batch), **1** is the number of channels (since the images are black and white), and **28, 28** are the image dimensions (28 pixels by 28 pixels).\n",
        "\n",
        "- `torch.Size([32])`: This is the size of the torch tensor in the batch. Here **32** is the number of tags in the batch, which corresponds to the number of images in the batch.\n",
        "___\n",
        "</br>  \n",
        "- `torch.Size([32, 1, 28, 28])`: Это размерность тензора изображений в батче. Здесь **32** - это размер батча (количество изображений в батче), **1** - это количество каналов (так как изображения черно-белые), а **28, 28** - это размеры изображения (28 пикселей на 28 пикселей).\n",
        "\n",
        "- `torch.Size([32])`: Это размерность тензора меток в батче. Здесь **32** - это количество меток в батче, что соответствует количеству изображений в батче."
      ],
      "metadata": {
        "id": "U2ZXojHM5W1k"
      }
    },
    {
      "cell_type": "code",
      "source": [
        "len(train_loader), len(test_loader)"
      ],
      "metadata": {
        "colab": {
          "base_uri": "https://localhost:8080/"
        },
        "id": "-zOcVdZZ5oAu",
        "outputId": "5e476ba6-99e5-4e9c-b29b-8972537c4f1f"
      },
      "execution_count": 12,
      "outputs": [
        {
          "output_type": "execute_result",
          "data": {
            "text/plain": [
              "(1875, 313)"
            ]
          },
          "metadata": {},
          "execution_count": 12
        }
      ]
    },
    {
      "cell_type": "markdown",
      "source": [
        "## 8. Recreate `model_2` used in notebook 03 (the same model from the [CNN Explainer website](https://poloclub.github.io/cnn-explainer/), also known as TinyVGG) capable of fitting on the MNIST dataset."
      ],
      "metadata": {
        "id": "bCCVfXk5xjYS"
      }
    },
    {
      "cell_type": "code",
      "source": [
        "import torch.nn as nn\n",
        "\n",
        "class TinyVGG(nn.Module):\n",
        "    def __init__(self, input_shape=1, hidden_units=128, output_shape=10):\n",
        "        super(TinyVGG, self).__init__()\n",
        "        self.features = nn.Sequential(\n",
        "            nn.Conv2d(input_shape, hidden_units, kernel_size=3, padding=1),\n",
        "            nn.ReLU(),\n",
        "            nn.MaxPool2d(kernel_size=2, stride=2),\n",
        "            nn.Conv2d(hidden_units, hidden_units, kernel_size=3, padding=1),\n",
        "            nn.ReLU(),\n",
        "            nn.MaxPool2d(kernel_size=2, stride=2)\n",
        "        )\n",
        "        self.classifier = nn.Sequential(\n",
        "            nn.Flatten(),\n",
        "            nn.Linear(hidden_units * 7 * 7, output_shape)\n",
        "        )\n",
        "\n",
        "    def forward(self, x):\n",
        "        x = self.features(x)\n",
        "        x = self.classifier(x)\n",
        "        return x\n",
        "\n",
        "model = TinyVGG(input_shape=1, hidden_units=10, output_shape=10)\n",
        "model.to(device)"
      ],
      "metadata": {
        "colab": {
          "base_uri": "https://localhost:8080/"
        },
        "id": "odSAsElTa7HM",
        "outputId": "bb33b07a-54fe-4940-eb75-3140317d0748"
      },
      "execution_count": 13,
      "outputs": [
        {
          "output_type": "execute_result",
          "data": {
            "text/plain": [
              "TinyVGG(\n",
              "  (features): Sequential(\n",
              "    (0): Conv2d(1, 10, kernel_size=(3, 3), stride=(1, 1), padding=(1, 1))\n",
              "    (1): ReLU()\n",
              "    (2): MaxPool2d(kernel_size=2, stride=2, padding=0, dilation=1, ceil_mode=False)\n",
              "    (3): Conv2d(10, 10, kernel_size=(3, 3), stride=(1, 1), padding=(1, 1))\n",
              "    (4): ReLU()\n",
              "    (5): MaxPool2d(kernel_size=2, stride=2, padding=0, dilation=1, ceil_mode=False)\n",
              "  )\n",
              "  (classifier): Sequential(\n",
              "    (0): Flatten(start_dim=1, end_dim=-1)\n",
              "    (1): Linear(in_features=490, out_features=10, bias=True)\n",
              "  )\n",
              ")"
            ]
          },
          "metadata": {},
          "execution_count": 13
        }
      ]
    },
    {
      "cell_type": "code",
      "source": [
        "# Check out the model state dict to find out what patterns our model wants to learn\n",
        "# model.state_dict()"
      ],
      "metadata": {
        "id": "nKj_YDOLb9Ov"
      },
      "execution_count": 14,
      "outputs": []
    },
    {
      "cell_type": "code",
      "source": [
        "# Try a dummy forward pass to see what shapes our data is\n",
        "dummy_x = torch.rand(size=(1, 28, 28)).unsqueeze(dim=0).to(device)\n",
        "\n",
        "# dummy_x.shape\n",
        "model(dummy_x)"
      ],
      "metadata": {
        "colab": {
          "base_uri": "https://localhost:8080/"
        },
        "id": "mMr8ZCV9cDtM",
        "outputId": "a9b960c1-cc2c-44cb-d0e4-cafe83f48040"
      },
      "execution_count": 15,
      "outputs": [
        {
          "output_type": "execute_result",
          "data": {
            "text/plain": [
              "tensor([[ 0.1132,  0.0040,  0.1261,  0.0090, -0.0974, -0.0690, -0.0094, -0.0630,\n",
              "          0.1036,  0.0205]], device='cuda:0', grad_fn=<AddmmBackward0>)"
            ]
          },
          "metadata": {},
          "execution_count": 15
        }
      ]
    },
    {
      "cell_type": "code",
      "source": [
        "dummy_x_2 = torch.rand(size=([1, 10, 7, 7]))\n",
        "dummy_x_2.shape"
      ],
      "metadata": {
        "colab": {
          "base_uri": "https://localhost:8080/"
        },
        "id": "GrCBgbHfFj3o",
        "outputId": "2a634024-4f03-4c21-cd19-0149651dfe76"
      },
      "execution_count": 16,
      "outputs": [
        {
          "output_type": "execute_result",
          "data": {
            "text/plain": [
              "torch.Size([1, 10, 7, 7])"
            ]
          },
          "metadata": {},
          "execution_count": 16
        }
      ]
    },
    {
      "cell_type": "code",
      "source": [
        "flatten_layer = nn.Flatten()\n",
        "flatten_layer(dummy_x_2).shape"
      ],
      "metadata": {
        "colab": {
          "base_uri": "https://localhost:8080/"
        },
        "id": "PMswPHnjFnbW",
        "outputId": "7eee33e9-8adb-48bb-dfea-b02cdd6e0a1d"
      },
      "execution_count": 17,
      "outputs": [
        {
          "output_type": "execute_result",
          "data": {
            "text/plain": [
              "torch.Size([1, 490])"
            ]
          },
          "metadata": {},
          "execution_count": 17
        }
      ]
    },
    {
      "cell_type": "markdown",
      "source": [
        "## 9. Train the model you built in exercise 8. for 5 epochs on CPU and GPU and see how long it takes on each."
      ],
      "metadata": {
        "id": "sf_3zUr7xlhy"
      }
    },
    {
      "cell_type": "code",
      "source": [
        "import torch.optim as optim\n",
        "from torchvision import datasets, transforms\n",
        "import time\n",
        "\n",
        "\n",
        "def train_model(model, train_loader, test_loader, criterion, optimizer, device, epochs=5):\n",
        "    \"\"\"\n",
        "    Train a PyTorch model on the specified device (CPU or GPU).\n",
        "\n",
        "    Args:\n",
        "        model (nn.Module): The PyTorch model to train.\n",
        "        train_loader (DataLoader): DataLoader for training data.\n",
        "        test_loader (DataLoader): DataLoader for test/validation data.\n",
        "        criterion: Loss function (e.g., nn.CrossEntropyLoss()).\n",
        "        optimizer: Optimizer (e.g., optim.SGD(model.parameters(), lr=0.1)).\n",
        "        device (str): 'cpu' or 'cuda' (for GPU).\n",
        "        epochs (int): Number of training epochs (default is 5).\n",
        "\n",
        "    Returns:\n",
        "        data (list): Input images.\n",
        "        target (list): True labels.\n",
        "        pred (list): Predicted labels.\n",
        "    \"\"\"\n",
        "    criterion = nn.CrossEntropyLoss()\n",
        "    optimizer = optim.SGD(model.parameters(), lr=0.1)\n",
        "\n",
        "    if device != \"cpu\":\n",
        "        if torch.cuda.is_available():\n",
        "            print(\"GPU is available, training is running on GPU.\")\n",
        "            device = \"cuda\"\n",
        "        else:\n",
        "            print(\"GPU is not available, training is running on the CPU.\")\n",
        "            device = \"cpu\"\n",
        "    else:\n",
        "        device = \"cpu\"\n",
        "        print(f\"Training is running on '{device}'.\")\n",
        "\n",
        "    model.to(device)\n",
        "    start_time = time.time()\n",
        "\n",
        "    for epoch in range(epochs):\n",
        "        model.train()\n",
        "        epoch_start_time = time.time()\n",
        "\n",
        "        for batch_idx, (data, target) in enumerate(train_loader):\n",
        "            data, target = data.to(device), target.to(device)\n",
        "            optimizer.zero_grad()\n",
        "            output = model(data)\n",
        "            loss = criterion(output, target)\n",
        "            loss.backward()\n",
        "            optimizer.step()\n",
        "\n",
        "        model.eval()\n",
        "        test_loss = 0\n",
        "        correct = 0\n",
        "\n",
        "        with torch.no_grad():\n",
        "            for data, target in test_loader:\n",
        "                data, target = data.to(device), target.to(device)\n",
        "                output = model(data)\n",
        "                test_loss += criterion(output, target).item()\n",
        "                pred = output.argmax(dim=1, keepdim=True)\n",
        "                correct += pred.eq(target.view_as(pred)).sum().item()\n",
        "\n",
        "        test_loss /= len(test_loader.dataset)\n",
        "        test_acc = correct / len(test_loader.dataset)\n",
        "\n",
        "        epoch_end_time = time.time()\n",
        "        print(f\"Epoch {epoch + 1}/{epochs}, Loss: {loss.item():.3f}, \"\n",
        "              f\"Accuracy: {test_acc:.3f}, \"\n",
        "              f\"Time for epoch: {epoch_end_time - epoch_start_time:.3f} seconds\")\n",
        "\n",
        "    end_time = time.time()\n",
        "    print(f\"Total training time on '{device}': {end_time - start_time:.3f} seconds\")\n",
        "\n",
        "    return data, target, pred"
      ],
      "metadata": {
        "id": "s6rj16kbXqZ5"
      },
      "execution_count": 18,
      "outputs": []
    },
    {
      "cell_type": "code",
      "source": [
        "data, target, pred = train_model(model, train_loader, test_loader, nn.CrossEntropyLoss(),\n",
        "                                 optim.SGD(model.parameters(), lr=0.1), \"cpu\", epochs=5)"
      ],
      "metadata": {
        "colab": {
          "base_uri": "https://localhost:8080/"
        },
        "id": "6AFhZz17egOt",
        "outputId": "7b7adf9a-1cf5-44b5-e10f-27a46a2c310d"
      },
      "execution_count": 19,
      "outputs": [
        {
          "output_type": "stream",
          "name": "stdout",
          "text": [
            "Training is running on 'cpu'.\n",
            "Epoch 1/5, Loss: 0.026, Accuracy: 0.979, Time for epoch: 29.201 seconds\n",
            "Epoch 2/5, Loss: 0.085, Accuracy: 0.981, Time for epoch: 19.753 seconds\n",
            "Epoch 3/5, Loss: 0.009, Accuracy: 0.981, Time for epoch: 19.369 seconds\n",
            "Epoch 4/5, Loss: 0.030, Accuracy: 0.982, Time for epoch: 32.199 seconds\n",
            "Epoch 5/5, Loss: 0.037, Accuracy: 0.985, Time for epoch: 19.700 seconds\n",
            "Total training time on 'cpu': 120.225 seconds\n"
          ]
        }
      ]
    },
    {
      "cell_type": "code",
      "source": [
        "model = TinyVGG(input_shape=1, hidden_units=10, output_shape=10)\n",
        "model.to(device)"
      ],
      "metadata": {
        "colab": {
          "base_uri": "https://localhost:8080/"
        },
        "id": "m0_rBCoDLjuI",
        "outputId": "daf457e6-251f-48fd-a04f-f2d67658e82a"
      },
      "execution_count": 20,
      "outputs": [
        {
          "output_type": "execute_result",
          "data": {
            "text/plain": [
              "TinyVGG(\n",
              "  (features): Sequential(\n",
              "    (0): Conv2d(1, 10, kernel_size=(3, 3), stride=(1, 1), padding=(1, 1))\n",
              "    (1): ReLU()\n",
              "    (2): MaxPool2d(kernel_size=2, stride=2, padding=0, dilation=1, ceil_mode=False)\n",
              "    (3): Conv2d(10, 10, kernel_size=(3, 3), stride=(1, 1), padding=(1, 1))\n",
              "    (4): ReLU()\n",
              "    (5): MaxPool2d(kernel_size=2, stride=2, padding=0, dilation=1, ceil_mode=False)\n",
              "  )\n",
              "  (classifier): Sequential(\n",
              "    (0): Flatten(start_dim=1, end_dim=-1)\n",
              "    (1): Linear(in_features=490, out_features=10, bias=True)\n",
              "  )\n",
              ")"
            ]
          },
          "metadata": {},
          "execution_count": 20
        }
      ]
    },
    {
      "cell_type": "code",
      "source": [
        "data, target, pred = train_model(model, train_loader, test_loader, nn.CrossEntropyLoss(),\n",
        "                                 optim.SGD(model.parameters(), lr=0.1), \"cuda\", epochs=5)"
      ],
      "metadata": {
        "colab": {
          "base_uri": "https://localhost:8080/"
        },
        "id": "aPhsQTNrZF1q",
        "outputId": "2e4bc6dd-4161-457f-b9e1-a105602a95e2"
      },
      "execution_count": 21,
      "outputs": [
        {
          "output_type": "stream",
          "name": "stdout",
          "text": [
            "GPU is available, training is running on GPU.\n",
            "Epoch 1/5, Loss: 0.050, Accuracy: 0.976, Time for epoch: 11.050 seconds\n",
            "Epoch 2/5, Loss: 0.050, Accuracy: 0.981, Time for epoch: 10.569 seconds\n",
            "Epoch 3/5, Loss: 0.005, Accuracy: 0.981, Time for epoch: 10.522 seconds\n",
            "Epoch 4/5, Loss: 0.012, Accuracy: 0.985, Time for epoch: 10.282 seconds\n",
            "Epoch 5/5, Loss: 0.016, Accuracy: 0.988, Time for epoch: 10.278 seconds\n",
            "Total training time on 'cuda': 52.703 seconds\n"
          ]
        }
      ]
    },
    {
      "cell_type": "markdown",
      "source": [
        "As you can see, using GPU resources, training was carried out 2 times faster.\n",
        "___  \n",
        "Как можно заметить, с использованием ресурсов GPU обучение осуществилось в 2 раза быстрее."
      ],
      "metadata": {
        "id": "JPbK4G8CQpIp"
      }
    },
    {
      "cell_type": "markdown",
      "source": [
        "## 10. Make predictions using your trained model and visualize at least 5 of them comparing the prediciton to the target label."
      ],
      "metadata": {
        "id": "w1CsHhPpxp1w"
      }
    },
    {
      "cell_type": "code",
      "source": [
        "def evaluate_model(model, data_loader, device):\n",
        "    y_true = []\n",
        "    y_pred = []\n",
        "\n",
        "    model.eval()\n",
        "    with torch.no_grad():\n",
        "        for data, target in data_loader:\n",
        "            data, target = data.to(device), target.to(device)\n",
        "            output = model(data)\n",
        "            pred = output.argmax(dim=1, keepdim=True)\n",
        "            y_true.extend(target.cpu().numpy())\n",
        "            y_pred.extend(pred.cpu().numpy())\n",
        "\n",
        "    return y_true, y_pred"
      ],
      "metadata": {
        "id": "_YGgZvSobNxu"
      },
      "execution_count": 22,
      "outputs": []
    },
    {
      "cell_type": "code",
      "source": [
        "y_true, y_pred = evaluate_model(model, test_loader, device)"
      ],
      "metadata": {
        "id": "2J--txh7bPbm"
      },
      "execution_count": 23,
      "outputs": []
    },
    {
      "cell_type": "code",
      "source": [
        "import seaborn as sns\n",
        "from sklearn.metrics import confusion_matrix\n",
        "\n",
        "def plot_confusion_matrix(y_true, y_pred, class_labels):\n",
        "    \"\"\"\n",
        "    Plot a heatmap of the confusion matrix.\n",
        "\n",
        "    Args:\n",
        "        y_true (list): True labels.\n",
        "        y_pred (list): Predicted labels.\n",
        "        class_labels (list): List of class labels (e.g., train_data.classes).\n",
        "    \"\"\"\n",
        "    conf_matrix = confusion_matrix(y_true, y_pred)\n",
        "\n",
        "    plt.figure(figsize=(5, 4))\n",
        "    sns.heatmap(conf_matrix, annot=True, fmt=\"d\", cmap=\"Blues\",\n",
        "                xticklabels=class_labels, yticklabels=class_labels)\n",
        "    plt.xlabel(\"Predicted labels\")\n",
        "    plt.ylabel(\"True labels\")\n",
        "    plt.title(\"Confusion Matrix\")\n",
        "    plt.show()"
      ],
      "metadata": {
        "id": "cVFaszAc6u9-"
      },
      "execution_count": 24,
      "outputs": []
    },
    {
      "cell_type": "code",
      "source": [
        "plot_confusion_matrix(y_true, y_pred, class_names)"
      ],
      "metadata": {
        "colab": {
          "base_uri": "https://localhost:8080/",
          "height": 460
        },
        "id": "B9LQ89cObteV",
        "outputId": "c29b7f0b-ee70-4063-ce3a-319c60127601"
      },
      "execution_count": 25,
      "outputs": [
        {
          "output_type": "display_data",
          "data": {
            "text/plain": [
              "<Figure size 500x400 with 2 Axes>"
            ],
            "image/png": "[encoded data removed]"
          },
          "metadata": {}
        }
      ]
    },
    {
      "cell_type": "markdown",
      "source": [
        "## 11. Plot a confusion matrix comparing your model's predictions to the truth labels."
      ],
      "metadata": {
        "id": "qQwzqlBWxrpG"
      }
    },
    {
      "cell_type": "code",
      "source": [
        "fig, axes = plt.subplots(1, 5, figsize=(10, 2))\n",
        "for i in range(5):\n",
        "    axes[i].imshow(data[i].cpu().numpy().squeeze(), cmap=\"gray\")\n",
        "    axes[i].set_title(f\"True: {target[i]}, Predicted: {pred[i][0]}\")\n",
        "    axes[i].axis(\"off\")\n",
        "    axes[i].set_adjustable(\"box\")\n",
        "plt.tight_layout()\n",
        "plt.show()"
      ],
      "metadata": {
        "colab": {
          "base_uri": "https://localhost:8080/",
          "height": 217
        },
        "id": "pKbNfmHMxfzW",
        "outputId": "e42a92c5-09f7-4da5-e40b-991d7953876f"
      },
      "execution_count": 26,
      "outputs": [
        {
          "output_type": "display_data",
          "data": {
            "text/plain": [
              "<Figure size 1000x200 with 5 Axes>"
            ],
            "image/png": "[encoded data removed]"
          },
          "metadata": {}
        }
      ]
    },
    {
      "cell_type": "markdown",
      "source": [
        "## 12. Create a random tensor of shape `[1, 3, 64, 64]` and pass it through a `nn.Conv2d()` layer with various hyperparameter settings (these can be any settings you choose), what do you notice if the `kernel_size` parameter goes up and down?"
      ],
      "metadata": {
        "id": "lj6bDhoWxt2y"
      }
    },
    {
      "cell_type": "code",
      "source": [
        "x = torch.randn(1, 3, 64, 64)\n",
        "print(x.shape)\n",
        "\n",
        "in_channels = 3\n",
        "out_channels = 64\n",
        "\n",
        "for kernel_size in [1, 3, 5]:\n",
        "    conv = nn.Conv2d(in_channels, out_channels, kernel_size=kernel_size,\n",
        "                                                    stride=2, padding=1)\n",
        "    out = conv(x)\n",
        "    print(f\"Kernel size: {kernel_size}, Output shape: {out.shape}\")"
      ],
      "metadata": {
        "id": "leCTsqtSbR5P",
        "colab": {
          "base_uri": "https://localhost:8080/"
        },
        "outputId": "2e089c52-c842-460d-f4bb-f075232c06d8"
      },
      "execution_count": 27,
      "outputs": [
        {
          "output_type": "stream",
          "name": "stdout",
          "text": [
            "torch.Size([1, 3, 64, 64])\n",
            "Kernel size: 1, Output shape: torch.Size([1, 64, 33, 33])\n",
            "Kernel size: 3, Output shape: torch.Size([1, 64, 32, 32])\n",
            "Kernel size: 5, Output shape: torch.Size([1, 64, 31, 31])\n"
          ]
        }
      ]
    },
    {
      "cell_type": "markdown",
      "source": [
        "## 13. Use a model similar to the trained `model_2` from notebook 03 to make predictions on the test [`torchvision.datasets.FashionMNIST`](https://pytorch.org/vision/main/generated/torchvision.datasets.FashionMNIST.html) dataset.\n",
        "* Then plot some predictions where the model was wrong alongside what the label of the image should've been.\n",
        "* After visualing these predictions do you think it's more of a modelling error or a data error?\n",
        "* As in, could the model do better or are the labels of the data too close to each other (e.g. a \"Shirt\" label is too close to \"T-shirt/top\")?"
      ],
      "metadata": {
        "id": "VHS20cNTxwSi"
      }
    },
    {
      "cell_type": "code",
      "source": [
        "device = \"cuda\" if torch.cuda.is_available() else \"cpu\""
      ],
      "metadata": {
        "id": "WQgMrhHjJtNs"
      },
      "execution_count": 28,
      "outputs": []
    },
    {
      "cell_type": "code",
      "source": [
        "train_data = datasets.FashionMNIST(root=\"data\", train=True, download=True, transform=transforms.ToTensor())\n",
        "test_data = datasets.FashionMNIST(root=\"data\", train=False, download=True, transform=transforms.ToTensor())"
      ],
      "metadata": {
        "id": "78a8LjtdbSZj",
        "colab": {
          "base_uri": "https://localhost:8080/"
        },
        "outputId": "8cb38837-e520-4461-eabe-bc00961bb0e1"
      },
      "execution_count": 29,
      "outputs": [
        {
          "output_type": "stream",
          "name": "stdout",
          "text": [
            "Downloading http://fashion-mnist.s3-website.eu-central-1.amazonaws.com/train-images-idx3-ubyte.gz\n",
            "Downloading http://fashion-mnist.s3-website.eu-central-1.amazonaws.com/train-images-idx3-ubyte.gz to data/FashionMNIST/raw/train-images-idx3-ubyte.gz\n"
          ]
        },
        {
          "output_type": "stream",
          "name": "stderr",
          "text": [
            "100%|██████████| 26421880/26421880 [00:00<00:00, 112588473.06it/s]\n"
          ]
        },
        {
          "output_type": "stream",
          "name": "stdout",
          "text": [
            "Extracting data/FashionMNIST/raw/train-images-idx3-ubyte.gz to data/FashionMNIST/raw\n",
            "\n",
            "Downloading http://fashion-mnist.s3-website.eu-central-1.amazonaws.com/train-labels-idx1-ubyte.gz\n",
            "Downloading http://fashion-mnist.s3-website.eu-central-1.amazonaws.com/train-labels-idx1-ubyte.gz to data/FashionMNIST/raw/train-labels-idx1-ubyte.gz\n"
          ]
        },
        {
          "output_type": "stream",
          "name": "stderr",
          "text": [
            "100%|██████████| 29515/29515 [00:00<00:00, 5652218.18it/s]\n"
          ]
        },
        {
          "output_type": "stream",
          "name": "stdout",
          "text": [
            "Extracting data/FashionMNIST/raw/train-labels-idx1-ubyte.gz to data/FashionMNIST/raw\n",
            "\n",
            "Downloading http://fashion-mnist.s3-website.eu-central-1.amazonaws.com/t10k-images-idx3-ubyte.gz\n",
            "Downloading http://fashion-mnist.s3-website.eu-central-1.amazonaws.com/t10k-images-idx3-ubyte.gz to data/FashionMNIST/raw/t10k-images-idx3-ubyte.gz\n"
          ]
        },
        {
          "output_type": "stream",
          "name": "stderr",
          "text": [
            "100%|██████████| 4422102/4422102 [00:00<00:00, 68434910.70it/s]\n"
          ]
        },
        {
          "output_type": "stream",
          "name": "stdout",
          "text": [
            "Extracting data/FashionMNIST/raw/t10k-images-idx3-ubyte.gz to data/FashionMNIST/raw\n",
            "\n",
            "Downloading http://fashion-mnist.s3-website.eu-central-1.amazonaws.com/t10k-labels-idx1-ubyte.gz\n",
            "Downloading http://fashion-mnist.s3-website.eu-central-1.amazonaws.com/t10k-labels-idx1-ubyte.gz to data/FashionMNIST/raw/t10k-labels-idx1-ubyte.gz\n"
          ]
        },
        {
          "output_type": "stream",
          "name": "stderr",
          "text": [
            "100%|██████████| 5148/5148 [00:00<00:00, 7755846.62it/s]\n"
          ]
        },
        {
          "output_type": "stream",
          "name": "stdout",
          "text": [
            "Extracting data/FashionMNIST/raw/t10k-labels-idx1-ubyte.gz to data/FashionMNIST/raw\n",
            "\n"
          ]
        }
      ]
    },
    {
      "cell_type": "code",
      "source": [
        "fashion_mnist_class_names = train_data.classes\n",
        "fashion_mnist_class_names"
      ],
      "metadata": {
        "colab": {
          "base_uri": "https://localhost:8080/"
        },
        "id": "2xfREXniMrFj",
        "outputId": "70917e02-ad70-4175-f71f-f8538a120477"
      },
      "execution_count": 30,
      "outputs": [
        {
          "output_type": "execute_result",
          "data": {
            "text/plain": [
              "['T-shirt/top',\n",
              " 'Trouser',\n",
              " 'Pullover',\n",
              " 'Dress',\n",
              " 'Coat',\n",
              " 'Sandal',\n",
              " 'Shirt',\n",
              " 'Sneaker',\n",
              " 'Bag',\n",
              " 'Ankle boot']"
            ]
          },
          "metadata": {},
          "execution_count": 30
        }
      ]
    },
    {
      "cell_type": "code",
      "source": [
        "train_fashion = torch.utils.data.DataLoader(train_data, batch_size=32, shuffle=True)\n",
        "test_fashion = torch.utils.data.DataLoader(test_data, batch_size=32, shuffle=True)"
      ],
      "metadata": {
        "id": "6Wuh-HaqHlC6"
      },
      "execution_count": 31,
      "outputs": []
    },
    {
      "cell_type": "code",
      "source": [
        "len(train_fashion), len(test_fashion)"
      ],
      "metadata": {
        "colab": {
          "base_uri": "https://localhost:8080/"
        },
        "id": "P5GbjbOaMH_h",
        "outputId": "7b69151e-2901-46db-883c-fe172a26fbe7"
      },
      "execution_count": 32,
      "outputs": [
        {
          "output_type": "execute_result",
          "data": {
            "text/plain": [
              "(1875, 313)"
            ]
          },
          "metadata": {},
          "execution_count": 32
        }
      ]
    },
    {
      "cell_type": "code",
      "source": [
        "# model_2 is the same architecture as TinyVGG\n",
        "model_2 = TinyVGG(input_shape=1, hidden_units=10, output_shape=10)\n",
        "\n",
        "model_2.to(device)"
      ],
      "metadata": {
        "colab": {
          "base_uri": "https://localhost:8080/"
        },
        "id": "mJ0Rl1k-I6i4",
        "outputId": "5735d9bc-f0b2-4411-86e7-e26417a27e2a"
      },
      "execution_count": 33,
      "outputs": [
        {
          "output_type": "execute_result",
          "data": {
            "text/plain": [
              "TinyVGG(\n",
              "  (features): Sequential(\n",
              "    (0): Conv2d(1, 10, kernel_size=(3, 3), stride=(1, 1), padding=(1, 1))\n",
              "    (1): ReLU()\n",
              "    (2): MaxPool2d(kernel_size=2, stride=2, padding=0, dilation=1, ceil_mode=False)\n",
              "    (3): Conv2d(10, 10, kernel_size=(3, 3), stride=(1, 1), padding=(1, 1))\n",
              "    (4): ReLU()\n",
              "    (5): MaxPool2d(kernel_size=2, stride=2, padding=0, dilation=1, ceil_mode=False)\n",
              "  )\n",
              "  (classifier): Sequential(\n",
              "    (0): Flatten(start_dim=1, end_dim=-1)\n",
              "    (1): Linear(in_features=490, out_features=10, bias=True)\n",
              "  )\n",
              ")"
            ]
          },
          "metadata": {},
          "execution_count": 33
        }
      ]
    },
    {
      "cell_type": "code",
      "source": [
        "data, target, pred = train_model(model_2, train_fashion, test_fashion, nn.CrossEntropyLoss(),\n",
        "                                 optim.SGD(model_2.parameters(), lr=0.1), device, epochs=5)"
      ],
      "metadata": {
        "colab": {
          "base_uri": "https://localhost:8080/"
        },
        "id": "Tr2s5jitWnnI",
        "outputId": "feaebb2f-beeb-4f72-d566-ff3d643557d2"
      },
      "execution_count": 34,
      "outputs": [
        {
          "output_type": "stream",
          "name": "stdout",
          "text": [
            "GPU is available, training is running on GPU.\n",
            "Epoch 1/5, Loss: 0.277, Accuracy: 0.830, Time for epoch: 11.274 seconds\n",
            "Epoch 2/5, Loss: 0.210, Accuracy: 0.873, Time for epoch: 10.221 seconds\n",
            "Epoch 3/5, Loss: 0.173, Accuracy: 0.880, Time for epoch: 10.297 seconds\n",
            "Epoch 4/5, Loss: 0.107, Accuracy: 0.880, Time for epoch: 11.507 seconds\n",
            "Epoch 5/5, Loss: 0.279, Accuracy: 0.887, Time for epoch: 10.610 seconds\n",
            "Total training time on 'cuda': 53.911 seconds\n"
          ]
        }
      ]
    },
    {
      "cell_type": "code",
      "source": [
        "y_true, y_pred = evaluate_model(model_2, test_fashion, device)"
      ],
      "metadata": {
        "id": "b_8rfnPiJbKq"
      },
      "execution_count": 35,
      "outputs": []
    },
    {
      "cell_type": "code",
      "source": [
        "plot_confusion_matrix(y_true, y_pred, fashion_mnist_class_names)"
      ],
      "metadata": {
        "colab": {
          "base_uri": "https://localhost:8080/",
          "height": 471
        },
        "id": "8GDl_AZUJbVG",
        "outputId": "7a590e55-78d7-4651-81bb-4a3dc7b82ec2"
      },
      "execution_count": 36,
      "outputs": [
        {
          "output_type": "display_data",
          "data": {
            "text/plain": [
              "<Figure size 500x400 with 2 Axes>"
            ],
            "image/png": "[encoded data removed]"
          },
          "metadata": {}
        }
      ]
    },
    {
      "cell_type": "code",
      "source": [
        "y_pred = torch.tensor(y_pred)\n",
        "y_pred[:10], len(y_pred)"
      ],
      "metadata": {
        "colab": {
          "base_uri": "https://localhost:8080/"
        },
        "id": "mSLzo-OvPb3r",
        "outputId": "6dc59674-3fc6-4711-dc22-50b538550c7b"
      },
      "execution_count": 37,
      "outputs": [
        {
          "output_type": "stream",
          "name": "stderr",
          "text": [
            "<ipython-input-37-289db77e8932>:1: UserWarning: Creating a tensor from a list of numpy.ndarrays is extremely slow. Please consider converting the list to a single numpy.ndarray with numpy.array() before converting to a tensor. (Triggered internally at ../torch/csrc/utils/tensor_new.cpp:275.)\n",
            "  y_pred = torch.tensor(y_pred)\n"
          ]
        },
        {
          "output_type": "execute_result",
          "data": {
            "text/plain": [
              "(tensor([[9],\n",
              "         [6],\n",
              "         [6],\n",
              "         [0],\n",
              "         [9],\n",
              "         [4],\n",
              "         [6],\n",
              "         [3],\n",
              "         [3],\n",
              "         [9]]),\n",
              " 10000)"
            ]
          },
          "metadata": {},
          "execution_count": 37
        }
      ]
    },
    {
      "cell_type": "code",
      "source": [
        "import random\n",
        "import numpy as np\n",
        "\n",
        "wrong_pred_indexes = np.where(y_pred != test_data.targets)[0]\n",
        "\n",
        "random.seed(2024)\n",
        "random_selection = random.sample(list(wrong_pred_indexes), k=min(9, len(wrong_pred_indexes)))\n",
        "\n",
        "plt.figure(figsize=(7, 7))\n",
        "\n",
        "for i, sample in enumerate(random_selection):\n",
        "    truth_label = fashion_mnist_class_names[test_data[sample][1]]\n",
        "    pred_label = fashion_mnist_class_names[y_pred[sample]]\n",
        "\n",
        "    title_text = f\"Pred: {pred_label} | Truth: {truth_label}\"\n",
        "\n",
        "    plt.subplot(3, 3, i+1)\n",
        "    plt.axis(False)\n",
        "    plt.title(title_text, fontsize=10, c=\"g\" if pred_label == truth_label else \"r\")\n",
        "    plt.imshow(test_data[sample][0].squeeze(), cmap=\"gray\")\n",
        "\n",
        "plt.tight_layout()\n",
        "plt.show()"
      ],
      "metadata": {
        "colab": {
          "base_uri": "https://localhost:8080/",
          "height": 707
        },
        "id": "nL7yJEDUKNix",
        "outputId": "0a6f839b-33bf-41a9-fbc4-095dcfa4218c"
      },
      "execution_count": 38,
      "outputs": [
        {
          "output_type": "display_data",
          "data": {
            "text/plain": [
              "<Figure size 700x700 with 9 Axes>"
            ],
            "image/png": "[encoded data removed]"
          },
          "metadata": {}
        }
      ]
    },
    {
      "cell_type": "markdown",
      "source": [
        "In my opinion, the deterioration in the quality of the model is directly related to the difficulty of determining the type of clothing, because, for example, `Sandal` and `Ankle boot` are attributes of shoes. It is quite difficult to classify an object, this indicates that the data labels are too close.\n",
        "\n",
        "The model's doubts, for example, between `Shirt` and `Sneaker` are explained by the low resolution of the training sample. We used images in size `28x28`. (in some pictures it is not easy for even the human eye to classify the object)\n",
        "___  \n",
        "</br>\n",
        "\n",
        "На мой взгляд, ухудшение качества модели непосредственно связано со сложностью определения типа одежды, потому, например, `Sandal` и `Ankle boot` - атрибуты обуви. Объект классифицировать достаточно тяжело, это говорит о том, что метки данных слишком близки.  \n",
        "\n",
        "Сомнения модели, например, между `Shirt` и `Sneaker` - объясняются низким разрешением обучающей выборки. Мы использовали изображения размером `28х28`. (на некоторых картинках даже человеческому глазу непросто классифицировать объект)"
      ],
      "metadata": {
        "id": "bO0UVSfUU0ZR"
      }
    },
    {
      "cell_type": "code",
      "source": [],
      "metadata": {
        "id": "GN9vBSi7NGxB"
      },
      "execution_count": 38,
      "outputs": []
    }
  ]
}